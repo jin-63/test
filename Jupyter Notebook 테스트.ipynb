{
 "cells": [
  {
   "cell_type": "markdown",
   "id": "c31e6937-c992-4dd4-b277-8aa38226969a",
   "metadata": {},
   "source": [
    "## Testing"
   ]
  },
  {
   "cell_type": "code",
   "execution_count": 3,
   "id": "9dc769ae-88e5-4d92-bc05-cafb065e5f2c",
   "metadata": {},
   "outputs": [
    {
     "name": "stdout",
     "output_type": "stream",
     "text": [
      "Hello World\n"
     ]
    }
   ],
   "source": [
    "print(\"Hello World\")"
   ]
  },
  {
   "cell_type": "code",
   "execution_count": 4,
   "id": "d39fa45b-6123-4b30-91fe-7cbcb03f0ca6",
   "metadata": {},
   "outputs": [
    {
     "data": {
      "text/plain": [
       "3"
      ]
     },
     "execution_count": 4,
     "metadata": {},
     "output_type": "execute_result"
    }
   ],
   "source": [
    "1+2"
   ]
  },
  {
   "cell_type": "code",
   "execution_count": 6,
   "id": "409d994c-7e51-4d53-a723-0f00704fa4e1",
   "metadata": {},
   "outputs": [
    {
     "name": "stdout",
     "output_type": "stream",
     "text": [
      "200\n"
     ]
    }
   ],
   "source": [
    "a=10*20\n",
    "print(a)"
   ]
  },
  {
   "cell_type": "code",
   "execution_count": 7,
   "id": "79715549-8e21-4e6c-9dec-fdf5b6ff0384",
   "metadata": {},
   "outputs": [],
   "source": [
    "a=10*20"
   ]
  },
  {
   "cell_type": "code",
   "execution_count": 8,
   "id": "b499768f-ce41-469a-91dd-334d1cfdcee9",
   "metadata": {},
   "outputs": [
    {
     "name": "stdout",
     "output_type": "stream",
     "text": [
      "200\n"
     ]
    }
   ],
   "source": [
    "print(a)"
   ]
  },
  {
   "cell_type": "markdown",
   "id": "cb40a173-74bd-4511-b81a-0e87884260b5",
   "metadata": {},
   "source": [
    "### Boolean"
   ]
  },
  {
   "cell_type": "code",
   "execution_count": 9,
   "id": "5b7279f7-5822-4cb5-a15e-b231e53383fb",
   "metadata": {},
   "outputs": [],
   "source": [
    "happy = True\n",
    "excited =False\n"
   ]
  },
  {
   "cell_type": "code",
   "execution_count": 10,
   "id": "eeeecfaa-2eba-4805-aa7e-53764454438b",
   "metadata": {},
   "outputs": [
    {
     "data": {
      "text/plain": [
       "False"
      ]
     },
     "execution_count": 10,
     "metadata": {},
     "output_type": "execute_result"
    }
   ],
   "source": [
    "not happy"
   ]
  },
  {
   "cell_type": "code",
   "execution_count": 12,
   "id": "fa873ee7-a1a3-4147-a294-571cad70e90c",
   "metadata": {},
   "outputs": [
    {
     "data": {
      "text/plain": [
       "False"
      ]
     },
     "execution_count": 12,
     "metadata": {},
     "output_type": "execute_result"
    }
   ],
   "source": [
    "happy and excited"
   ]
  },
  {
   "cell_type": "markdown",
   "id": "8274d170-7b85-4a10-b498-f5c474c5f615",
   "metadata": {},
   "source": [
    "## if else elif"
   ]
  },
  {
   "cell_type": "code",
   "execution_count": 13,
   "id": "70d89818-0e27-4e1f-a0ff-1346d21387e7",
   "metadata": {},
   "outputs": [
    {
     "name": "stdout",
     "output_type": "stream",
     "text": [
      "I am happy\n"
     ]
    }
   ],
   "source": [
    "if happy:\n",
    "    print(\"I am happy\")"
   ]
  },
  {
   "cell_type": "code",
   "execution_count": 14,
   "id": "0283ee73-8b7f-4e81-9a9e-368b58211e84",
   "metadata": {},
   "outputs": [],
   "source": [
    "happy = False"
   ]
  },
  {
   "cell_type": "code",
   "execution_count": 15,
   "id": "1deb23dc-90ee-4db0-a478-ff680fa593ba",
   "metadata": {},
   "outputs": [
    {
     "name": "stdout",
     "output_type": "stream",
     "text": [
      "I am not happy\n"
     ]
    }
   ],
   "source": [
    "if happy:\n",
    "    print(\"I am happy\")\n",
    "else:\n",
    "    print(\"I am not happy\")"
   ]
  },
  {
   "cell_type": "code",
   "execution_count": 17,
   "id": "1499d377-57e4-4dfd-9ef9-27b31e46f5f4",
   "metadata": {},
   "outputs": [
    {
     "name": "stdout",
     "output_type": "stream",
     "text": [
      "?\n"
     ]
    }
   ],
   "source": [
    "mood=\"soso\"\n",
    "\n",
    "if mood == \"high\":\n",
    "    print(\"I am happy\")\n",
    "elif mood ==\"low\":\n",
    "    print(\"I am not happy\")\n",
    "else:\n",
    "    print(\"?\")\n"
   ]
  },
  {
   "cell_type": "code",
   "execution_count": null,
   "id": "aca56b80-5f1c-4801-9902-9813b2969ff6",
   "metadata": {},
   "outputs": [],
   "source": []
  }
 ],
 "metadata": {
  "kernelspec": {
   "display_name": "Python 3 (ipykernel)",
   "language": "python",
   "name": "python3"
  },
  "language_info": {
   "codemirror_mode": {
    "name": "ipython",
    "version": 3
   },
   "file_extension": ".py",
   "mimetype": "text/x-python",
   "name": "python",
   "nbconvert_exporter": "python",
   "pygments_lexer": "ipython3",
   "version": "3.11.5"
  }
 },
 "nbformat": 4,
 "nbformat_minor": 5
}
